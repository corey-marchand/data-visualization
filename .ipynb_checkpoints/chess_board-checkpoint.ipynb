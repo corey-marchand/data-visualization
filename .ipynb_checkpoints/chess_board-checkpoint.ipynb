{
 "cells": [
  {
   "cell_type": "code",
   "execution_count": 17,
   "metadata": {},
   "outputs": [],
   "source": [
    "import numpy as np "
   ]
  },
  {
   "cell_type": "code",
   "execution_count": 18,
   "metadata": {},
   "outputs": [],
   "source": [
    "import matplotlib.pyplot as plt"
   ]
  },
  {
   "cell_type": "code",
   "execution_count": 85,
   "metadata": {},
   "outputs": [],
   "source": [
    "# queens on same row should be “under attack”\n",
    "# queens on same column should be “under attack”\n",
    "# queens on same diagonal should be “under attack”\n",
    "# queens with any other coordinates should NOT be “under attack”\n",
    "\n",
    "class ChessBoard: \n",
    "    white = (1,1,1)\n",
    "    \n",
    "    def __init__(self):\n",
    "        self.grid = np.zeros((8,8,3))\n",
    "        \n",
    "    def render(self):\n",
    "        plt.imshow(self.grid)\n",
    "        \n",
    "    \n",
    "    def add_red(self, row, col):\n",
    "        self.grid[row, col] = (1, .2, 0)\n",
    "\n",
    "    def add_blue(self, row, col):\n",
    "        self.grid[row, col] = (.1, .1, 1) \n",
    "    \n",
    "    def is_under_attack(self, ax, ay, bx, by):\n",
    "        ax_bx_new = ax - bx\n",
    "        ay_by_new = ay - by\n",
    "        positionX = abs(ax_bx_new)\n",
    "        positionY = abs(ay_by_new)\n",
    "\n",
    "        if ax == ax:\n",
    "            return \"red is under attack\"\n",
    "        elif ay == ay:\n",
    "            return \"Red is under attack\"\n",
    "        \n",
    "        elif position_x == position_y:\n",
    "            return \"Red is under attack\"\n",
    "                               \n",
    "        else:\n",
    "            return \"you are not under Attack!\"\n",
    "        "
   ]
  },
  {
   "cell_type": "code",
   "execution_count": 86,
   "metadata": {
    "scrolled": true
   },
   "outputs": [
    {
     "data": {
      "image/png": "[encoded data removed]",
      "text/plain": [
       "<Figure size 432x288 with 1 Axes>"
      ]
     },
     "metadata": {
      "needs_background": "light"
     },
     "output_type": "display_data"
    }
   ],
   "source": [
    "board = ChessBoard()\n",
    "\n",
    "white = (1,1,1)\n",
    "\n",
    "for i in range(0,8,2):\n",
    "    board.grid[i + 0][::2] = white\n",
    "    board.grid[i + 1][1::2] = white\n",
    "    \n",
    "board.render()"
   ]
  },
  {
   "cell_type": "code",
   "execution_count": 89,
   "metadata": {
    "scrolled": true
   },
   "outputs": [
    {
     "data": {
      "image/png": "[encoded data removed]",
      "text/plain": [
       "<Figure size 432x288 with 1 Axes>"
      ]
     },
     "metadata": {
      "needs_background": "light"
     },
     "output_type": "display_data"
    }
   ],
   "source": [
    "board.add_red(0, 0)\n",
    "board.add_blue(0, 2)\n",
    "board.render()\n"
   ]
  },
  {
   "cell_type": "code",
   "execution_count": 88,
   "metadata": {},
   "outputs": [
    {
     "data": {
      "text/plain": [
       "'red is under attack'"
      ]
     },
     "execution_count": 88,
     "metadata": {},
     "output_type": "execute_result"
    }
   ],
   "source": [
    "board.is_under_attack(4, 6, 4, 7)"
   ]
  },
  {
   "cell_type": "code",
   "execution_count": null,
   "metadata": {},
   "outputs": [],
   "source": []
  },
  {
   "cell_type": "code",
   "execution_count": null,
   "metadata": {},
   "outputs": [],
   "source": []
  }
 ],
 "metadata": {
  "kernelspec": {
   "display_name": "Python 3",
   "language": "python",
   "name": "python3"
  },
  "language_info": {
   "codemirror_mode": {
    "name": "ipython",
    "version": 3
   },
   "file_extension": ".py",
   "mimetype": "text/x-python",
   "name": "python",
   "nbconvert_exporter": "python",
   "pygments_lexer": "ipython3",
   "version": "3.7.6"
  }
 },
 "nbformat": 4,
 "nbformat_minor": 2
}
